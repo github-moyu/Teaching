{
 "cells": [
  {
   "cell_type": "code",
   "execution_count": 5,
   "metadata": {},
   "outputs": [],
   "source": [
    "####################\n",
    "#set up packages \n",
    "####################\n",
    "import ee                     \n",
    "ee.Initialize()\n",
    "import pandas as pd\n",
    "import geemap.eefolium as emap\n",
    "import csv\n",
    "import time\n",
    "from datetime import date\n",
    "import numpy as np\n",
    "import os, sys"
   ]
  },
  {
   "cell_type": "code",
   "execution_count": 6,
   "metadata": {},
   "outputs": [],
   "source": [
    "####################\n",
    "#User defined functtions\n",
    "####################\n",
    "##create not overlapping zones along the hurricane track\n",
    "def createBuffer(dist1,dist2,vector):\n",
    "    buffer = vector.buffer(dist1).difference(vector.buffer(dist2),ee.ErrorMargin(1))\n",
    "    return buffer  "
   ]
  },
  {
   "cell_type": "code",
   "execution_count": 17,
   "metadata": {},
   "outputs": [],
   "source": [
    "if False:\n",
    "    files = os.listdir('C:/Users/Y/Desktop/CHES/loss/data/ibtracs/onehr_landing/LandingSegment50kmInland_since2013/')\n",
    "    #print(len(files),'files: ',files)\n",
    "    file = 'h5_Maria2017_2017260N12310_2017092009.csv'\n",
    "    data0 = pd.read_csv('C:/Users/Y/Desktop/CHES/loss/data/ibtracs/onehr_landing/LandingSegment50kmInland_since2013/'+ file) \n",
    "    data0\n",
    "    Hid = data0.iloc[0]['SID']\n",
    "    landingYear = file.split('_')[3].split('.')[0][0:4]\n",
    "    landingMonth = file.split('_')[3].split('.')[0][4:6]\n",
    "    Hyear = data0.iloc[0]['Year']\n",
    "    Hname = data0.iloc[0]['Name']\n",
    "    Hname = ''.join(filter(str.isalnum, Hname)).capitalize()\n",
    "    #print(landingYear)\n",
    "    #print(landingMonth)\n",
    "    #print(Hyear)\n",
    "    #print(Hname)\n",
    "    data = data0[['Longitude','Latitude']]\n",
    "    #coors = data.values.tolist()\n",
    "    #track = ee.Feature(ee.Geometry.LineString(coors),{'Name':Hname, 'Year': str(Hyear)})\n",
    "    coors = data.values.tolist()[1]\n",
    "    track = ee.Feature(ee.Geometry.Point(coors),{'Name':Hname, 'Year': str(Hyear)})\n",
    "    trackBuffer = track.buffer(10000)  \n",
    "    print(coors)"
   ]
  },
  {
   "cell_type": "code",
   "execution_count": 22,
   "metadata": {},
   "outputs": [
    {
     "name": "stdout",
     "output_type": "stream",
     "text": [
      "[-65.9, 18.0]\n",
      "{'Name': 'Maria', 'Year': '2017'}\n"
     ]
    }
   ],
   "source": [
    "coors = [-65.9, 18.0]\n",
    "Hyear = 2017\n",
    "Hname = 'Maria'\n",
    "track = ee.Feature(ee.Geometry.Point(coors),{'Name':Hname, 'Year': str(Hyear)})\n",
    "trackBuffer = track.buffer(10000)  \n",
    "print(coors)\n",
    "print(track.getInfo()['properties'])"
   ]
  },
  {
   "cell_type": "code",
   "execution_count": 18,
   "metadata": {},
   "outputs": [],
   "source": [
    "#create zones along the track\n",
    "buffer10k = track.buffer(10000)\n",
    "buffer20k = createBuffer(20000,10000,track)\n",
    "buffer30k = createBuffer(30000,20000,track)\n",
    "buffer40k = createBuffer(40000,30000,track)\n",
    "buffer50k = createBuffer(50000,40000,track)"
   ]
  },
  {
   "cell_type": "code",
   "execution_count": 23,
   "metadata": {},
   "outputs": [],
   "source": [
    "NL_pre = ee.ImageCollection(\"NOAA/VIIRS/DNB/MONTHLY_V1/VCMCFG\")\\\n",
    "           .filterDate(str(Hyear-1)+'-01-01', str(Hyear-1)+'-12-31')\\\n",
    "           .select(['avg_rad'])\\\n",
    "           .first()\n",
    "urban = NL_pre.gt(3)   \n",
    "urban = urban.updateMask(urban.neq(0))\n",
    "\n",
    "urban_vec = urban.clip(trackBuffer.geometry()).eq(1)\\\n",
    "                                  .updateMask(urban.clip(trackBuffer.geometry()).eq(1))\\\n",
    "                                  .reduceToVectors(geometry= trackBuffer.geometry(),\n",
    "                                                    scale= 450,\n",
    "                                                    geometryType= 'Polygon',\n",
    "                                                    eightConnected=True,  #True or False?\n",
    "                                                    maxPixels=1e13)   "
   ]
  },
  {
   "cell_type": "code",
   "execution_count": 24,
   "metadata": {},
   "outputs": [],
   "source": [
    "if Hyear < 2008: \n",
    "    URyear = 2000\n",
    "if Hyear >= 2009: \n",
    "    URyear = 2015   \n",
    "\n",
    "urban = ee.ImageCollection(\"JRC/GHSL/P2016/SMOD_POP_GLOBE_V1\")\\\n",
    "           .filterDate(str(URyear)+'-01-01', str(URyear)+'-12-31')\\\n",
    "           .select(['smod_code'])\\\n",
    "           .first()\n",
    "\n",
    "HDC = urban.eq(3)\n",
    "HDC = HDC.updateMask(HDC.neq(0))\n",
    "HDC_vec = HDC.clip(trackBuffer.geometry())\\\n",
    "             .reduceToVectors(geometry= trackBuffer.geometry(),\n",
    "                              scale= 1000,\n",
    "                              geometryType= 'Polygon',\n",
    "                              eightConnected=False,  #True or False?\n",
    "                              maxPixels=1e13)   \n",
    "\n",
    "LDC = urban.eq(2)\n",
    "LDC = LDC.updateMask(LDC.neq(0))\n",
    "LDC_vec = LDC.clip(trackBuffer.geometry())\\\n",
    "             .reduceToVectors(geometry= trackBuffer.geometry(),\n",
    "                              scale= 1000,\n",
    "                              geometryType= 'Polygon',\n",
    "                              eightConnected=False,  #True or False?\n",
    "                              maxPixels=1e13) \n",
    "\n",
    "DC = urban.gt(1)\n",
    "DC = DC.updateMask(DC.neq(0))\n",
    "DC_vec = DC.clip(trackBuffer.geometry())\\\n",
    "           .reduceToVectors(geometry= trackBuffer.geometry(),\n",
    "                            scale= 1000,\n",
    "                            geometryType= 'Polygon',\n",
    "                            eightConnected=False,  #True or False?\n",
    "                            maxPixels=1e13) "
   ]
  },
  {
   "cell_type": "code",
   "execution_count": 25,
   "metadata": {},
   "outputs": [
    {
     "data": {
      "text/html": [
       "<div style=\"width:100%;\"><div style=\"position:relative;width:100%;height:0;padding-bottom:60%;\"><iframe src=\"data:text/html;charset=utf-8;base64,PCFET0NUWVBFIGh0bWw+CjxoZWFkPiAgICAKICAgIDxtZXRhIGh0dHAtZXF1aXY9ImNvbnRlbnQtdHlwZSIgY29udGVudD0idGV4dC9odG1sOyBjaGFyc2V0PVVURi04IiAvPgogICAgCiAgICAgICAgPHNjcmlwdD4KICAgICAgICAgICAgTF9OT19UT1VDSCA9IGZhbHNlOwogICAgICAgICAgICBMX0RJU0FCTEVfM0QgPSBmYWxzZTsKICAgICAgICA8L3NjcmlwdD4KICAgIAogICAgPHNjcmlwdCBzcmM9Imh0dHBzOi8vY2RuLmpzZGVsaXZyLm5ldC9ucG0vbGVhZmxldEAxLjYuMC9kaXN0L2xlYWZsZXQuanMiPjwvc2NyaXB0PgogICAgPHNjcmlwdCBzcmM9Imh0dHBzOi8vY29kZS5qcXVlcnkuY29tL2pxdWVyeS0xLjEyLjQubWluLmpzIj48L3NjcmlwdD4KICAgIDxzY3JpcHQgc3JjPSJodHRwczovL21heGNkbi5ib290c3RyYXBjZG4uY29tL2Jvb3RzdHJhcC8zLjIuMC9qcy9ib290c3RyYXAubWluLmpzIj48L3NjcmlwdD4KICAgIDxzY3JpcHQgc3JjPSJodHRwczovL2NkbmpzLmNsb3VkZmxhcmUuY29tL2FqYXgvbGlicy9MZWFmbGV0LmF3ZXNvbWUtbWFya2Vycy8yLjAuMi9sZWFmbGV0LmF3ZXNvbWUtbWFya2Vycy5qcyI+PC9zY3JpcHQ+CiAgICA8bGluayByZWw9InN0eWxlc2hlZXQiIGhyZWY9Imh0dHBzOi8vY2RuLmpzZGVsaXZyLm5ldC9ucG0vbGVhZmxldEAxLjYuMC9kaXN0L2xlYWZsZXQuY3NzIi8+CiAgICA8bGluayByZWw9InN0eWxlc2hlZXQiIGhyZWY9Imh0dHBzOi8vbWF4Y2RuLmJvb3RzdHJhcGNkbi5jb20vYm9vdHN0cmFwLzMuMi4wL2Nzcy9ib290c3RyYXAubWluLmNzcyIvPgogICAgPGxpbmsgcmVsPSJzdHlsZXNoZWV0IiBocmVmPSJodHRwczovL21heGNkbi5ib290c3RyYXBjZG4uY29tL2Jvb3RzdHJhcC8zLjIuMC9jc3MvYm9vdHN0cmFwLXRoZW1lLm1pbi5jc3MiLz4KICAgIDxsaW5rIHJlbD0ic3R5bGVzaGVldCIgaHJlZj0iaHR0cHM6Ly9tYXhjZG4uYm9vdHN0cmFwY2RuLmNvbS9mb250LWF3ZXNvbWUvNC42LjMvY3NzL2ZvbnQtYXdlc29tZS5taW4uY3NzIi8+CiAgICA8bGluayByZWw9InN0eWxlc2hlZXQiIGhyZWY9Imh0dHBzOi8vY2RuanMuY2xvdWRmbGFyZS5jb20vYWpheC9saWJzL0xlYWZsZXQuYXdlc29tZS1tYXJrZXJzLzIuMC4yL2xlYWZsZXQuYXdlc29tZS1tYXJrZXJzLmNzcyIvPgogICAgPGxpbmsgcmVsPSJzdHlsZXNoZWV0IiBocmVmPSJodHRwczovL3Jhd2Nkbi5naXRoYWNrLmNvbS9weXRob24tdmlzdWFsaXphdGlvbi9mb2xpdW0vbWFzdGVyL2ZvbGl1bS90ZW1wbGF0ZXMvbGVhZmxldC5hd2Vzb21lLnJvdGF0ZS5jc3MiLz4KICAgIDxzdHlsZT5odG1sLCBib2R5IHt3aWR0aDogMTAwJTtoZWlnaHQ6IDEwMCU7bWFyZ2luOiAwO3BhZGRpbmc6IDA7fTwvc3R5bGU+CiAgICA8c3R5bGU+I21hcCB7cG9zaXRpb246YWJzb2x1dGU7dG9wOjA7Ym90dG9tOjA7cmlnaHQ6MDtsZWZ0OjA7fTwvc3R5bGU+CiAgICAKICAgICAgICAgICAgPG1ldGEgbmFtZT0idmlld3BvcnQiIGNvbnRlbnQ9IndpZHRoPWRldmljZS13aWR0aCwKICAgICAgICAgICAgICAgIGluaXRpYWwtc2NhbGU9MS4wLCBtYXhpbXVtLXNjYWxlPTEuMCwgdXNlci1zY2FsYWJsZT1ubyIgLz4KICAgICAgICAgICAgPHN0eWxlPgogICAgICAgICAgICAgICAgI21hcF82M2UzZTVlZDg4OWM0MzFmODQzODRkMDlhNDY4Mjg3MiB7CiAgICAgICAgICAgICAgICAgICAgcG9zaXRpb246IHJlbGF0aXZlOwogICAgICAgICAgICAgICAgICAgIHdpZHRoOiAxMDAuMCU7CiAgICAgICAgICAgICAgICAgICAgaGVpZ2h0OiAxMDAuMCU7CiAgICAgICAgICAgICAgICAgICAgbGVmdDogMC4wJTsKICAgICAgICAgICAgICAgICAgICB0b3A6IDAuMCU7CiAgICAgICAgICAgICAgICB9CiAgICAgICAgICAgIDwvc3R5bGU+CiAgICAgICAgCiAgICA8c2NyaXB0IHNyYz0iaHR0cHM6Ly9jZG5qcy5jbG91ZGZsYXJlLmNvbS9hamF4L2xpYnMvbGVhZmxldC5mdWxsc2NyZWVuLzEuNC4yL0NvbnRyb2wuRnVsbFNjcmVlbi5taW4uanMiPjwvc2NyaXB0PgogICAgPGxpbmsgcmVsPSJzdHlsZXNoZWV0IiBocmVmPSJodHRwczovL2NkbmpzLmNsb3VkZmxhcmUuY29tL2FqYXgvbGlicy9sZWFmbGV0LmZ1bGxzY3JlZW4vMS40LjIvQ29udHJvbC5GdWxsU2NyZWVuLm1pbi5jc3MiLz4KPC9oZWFkPgo8Ym9keT4gICAgCiAgICAKICAgICAgICAgICAgPGRpdiBjbGFzcz0iZm9saXVtLW1hcCIgaWQ9Im1hcF82M2UzZTVlZDg4OWM0MzFmODQzODRkMDlhNDY4Mjg3MiIgPjwvZGl2PgogICAgICAgIAo8L2JvZHk+CjxzY3JpcHQ+ICAgIAogICAgCiAgICAgICAgICAgIHZhciBtYXBfNjNlM2U1ZWQ4ODljNDMxZjg0Mzg0ZDA5YTQ2ODI4NzIgPSBMLm1hcCgKICAgICAgICAgICAgICAgICJtYXBfNjNlM2U1ZWQ4ODljNDMxZjg0Mzg0ZDA5YTQ2ODI4NzIiLAogICAgICAgICAgICAgICAgewogICAgICAgICAgICAgICAgICAgIGNlbnRlcjogWzE3LjkzMzMzMzMzMzMzMzMsIC02NS43NjY2NjY2NjY2NjY3XSwKICAgICAgICAgICAgICAgICAgICBjcnM6IEwuQ1JTLkVQU0czODU3LAogICAgICAgICAgICAgICAgICAgIHpvb206IDgsCiAgICAgICAgICAgICAgICAgICAgem9vbUNvbnRyb2w6IHRydWUsCiAgICAgICAgICAgICAgICAgICAgcHJlZmVyQ2FudmFzOiBmYWxzZSwKICAgICAgICAgICAgICAgICAgICBhZGRHb29nbGVNYXA6IHRydWUsCiAgICAgICAgICAgICAgICB9CiAgICAgICAgICAgICk7CgogICAgICAgICAgICAKCiAgICAgICAgCiAgICAKICAgICAgICAgICAgdmFyIHRpbGVfbGF5ZXJfN2FlZDM5ZThkOTgzNGY0NGIxMGY0MGE3NzdmYzQ5MTkgPSBMLnRpbGVMYXllcigKICAgICAgICAgICAgICAgICJodHRwczovL3tzfS50aWxlLm9wZW5zdHJlZXRtYXAub3JnL3t6fS97eH0ve3l9LnBuZyIsCiAgICAgICAgICAgICAgICB7ImF0dHJpYnV0aW9uIjogIkRhdGEgYnkgXHUwMDI2Y29weTsgXHUwMDNjYSBocmVmPVwiaHR0cDovL29wZW5zdHJlZXRtYXAub3JnXCJcdTAwM2VPcGVuU3RyZWV0TWFwXHUwMDNjL2FcdTAwM2UsIHVuZGVyIFx1MDAzY2EgaHJlZj1cImh0dHA6Ly93d3cub3BlbnN0cmVldG1hcC5vcmcvY29weXJpZ2h0XCJcdTAwM2VPRGJMXHUwMDNjL2FcdTAwM2UuIiwgImRldGVjdFJldGluYSI6IGZhbHNlLCAibWF4TmF0aXZlWm9vbSI6IDE4LCAibWF4Wm9vbSI6IDE4LCAibWluWm9vbSI6IDAsICJub1dyYXAiOiBmYWxzZSwgIm9wYWNpdHkiOiAxLCAic3ViZG9tYWlucyI6ICJhYmMiLCAidG1zIjogZmFsc2V9CiAgICAgICAgICAgICkuYWRkVG8obWFwXzYzZTNlNWVkODg5YzQzMWY4NDM4NGQwOWE0NjgyODcyKTsKICAgICAgICAKICAgIAogICAgICAgICAgICB2YXIgdGlsZV9sYXllcl82MTBhNTVkNWFiM2Y0ODU1OWJiMjkwZDkwODlhZWEwZSA9IEwudGlsZUxheWVyKAogICAgICAgICAgICAgICAgImh0dHBzOi8vbXQxLmdvb2dsZS5jb20vdnQvbHlycz1tXHUwMDI2eD17eH1cdTAwMjZ5PXt5fVx1MDAyNno9e3p9IiwKICAgICAgICAgICAgICAgIHsiYXR0cmlidXRpb24iOiAiR29vZ2xlIiwgImRldGVjdFJldGluYSI6IGZhbHNlLCAibWF4TmF0aXZlWm9vbSI6IDE4LCAibWF4Wm9vbSI6IDE4LCAibWluWm9vbSI6IDAsICJub1dyYXAiOiBmYWxzZSwgIm9wYWNpdHkiOiAxLCAic3ViZG9tYWlucyI6ICJhYmMiLCAidG1zIjogZmFsc2V9CiAgICAgICAgICAgICkuYWRkVG8obWFwXzYzZTNlNWVkODg5YzQzMWY4NDM4NGQwOWE0NjgyODcyKTsKICAgICAgICAKICAgIAogICAgICAgICAgICAgICAgdmFyIGxhdF9sbmdfcG9wdXBfYzFiM2NlMGJkMzRlNGViNGEzYzRmZTE5MjQwN2YxMmEgPSBMLnBvcHVwKCk7CiAgICAgICAgICAgICAgICBmdW5jdGlvbiBsYXRMbmdQb3AoZSkgewogICAgICAgICAgICAgICAgICAgIGxhdF9sbmdfcG9wdXBfYzFiM2NlMGJkMzRlNGViNGEzYzRmZTE5MjQwN2YxMmEKICAgICAgICAgICAgICAgICAgICAgICAgLnNldExhdExuZyhlLmxhdGxuZykKICAgICAgICAgICAgICAgICAgICAgICAgLnNldENvbnRlbnQoIkxhdGl0dWRlOiAiICsgZS5sYXRsbmcubGF0LnRvRml4ZWQoNCkgKwogICAgICAgICAgICAgICAgICAgICAgICAgICAgICAgICAgICAiPGJyPkxvbmdpdHVkZTogIiArIGUubGF0bG5nLmxuZy50b0ZpeGVkKDQpKQogICAgICAgICAgICAgICAgICAgICAgICAub3Blbk9uKG1hcF82M2UzZTVlZDg4OWM0MzFmODQzODRkMDlhNDY4Mjg3Mik7CiAgICAgICAgICAgICAgICAgICAgfQogICAgICAgICAgICAgICAgbWFwXzYzZTNlNWVkODg5YzQzMWY4NDM4NGQwOWE0NjgyODcyLm9uKCdjbGljaycsIGxhdExuZ1BvcCk7CiAgICAgICAgICAgIAogICAgCiAgICAgICAgICAgIG1hcF82M2UzZTVlZDg4OWM0MzFmODQzODRkMDlhNDY4Mjg3Mi5maXRCb3VuZHMoCiAgICAgICAgICAgICAgICBbWzE3LjkzMzMzMzMzMzMzMzMsIC02NS43NjY2NjY2NjY2NjY3XSwgWzE3LjkzMzMzMzMzMzMzMzMsIC02NS43NjY2NjY2NjY2NjY3XV0sCiAgICAgICAgICAgICAgICB7Im1heFpvb20iOiA4fQogICAgICAgICAgICApOwogICAgICAgIAogICAgCiAgICAgICAgICAgIHZhciB0aWxlX2xheWVyX2I3ZmMyMzgzMGM2NDQyNTA4MDA2ODZlNDk3Y2Q0NzViID0gTC50aWxlTGF5ZXIoCiAgICAgICAgICAgICAgICAiaHR0cHM6Ly9lYXJ0aGVuZ2luZS5nb29nbGVhcGlzLmNvbS92MWFscGhhL3Byb2plY3RzL2VhcnRoZW5naW5lLWxlZ2FjeS9tYXBzLzQ4ZGJkYzg0ZDRkYmIxNjFiMThhNmE5NjRjNjYwMDRkLWZkODdjNDllNWI4ZWM0MWYzN2E0NTRiMjM2NTk0YTU5L3RpbGVzL3t6fS97eH0ve3l9IiwKICAgICAgICAgICAgICAgIHsiYXR0cmlidXRpb24iOiAiR29vZ2xlIEVhcnRoIEVuZ2luZSIsICJkZXRlY3RSZXRpbmEiOiBmYWxzZSwgIm1heE5hdGl2ZVpvb20iOiAxOCwgIm1heFpvb20iOiAxOCwgIm1pblpvb20iOiAwLCAibm9XcmFwIjogZmFsc2UsICJvcGFjaXR5IjogMS4wLCAic3ViZG9tYWlucyI6ICJhYmMiLCAidG1zIjogZmFsc2V9CiAgICAgICAgICAgICkuYWRkVG8obWFwXzYzZTNlNWVkODg5YzQzMWY4NDM4NGQwOWE0NjgyODcyKTsKICAgICAgICAKICAgIAogICAgICAgICAgICB2YXIgdGlsZV9sYXllcl8zYTA4NDQ4ZGIyZjQ0YWNhODM5ZDA5OTRkYmY0NTdhMyA9IEwudGlsZUxheWVyKAogICAgICAgICAgICAgICAgImh0dHBzOi8vZWFydGhlbmdpbmUuZ29vZ2xlYXBpcy5jb20vdjFhbHBoYS9wcm9qZWN0cy9lYXJ0aGVuZ2luZS1sZWdhY3kvbWFwcy9hMDAxY2I2ZjE1Y2M1ZDVjZWZjN2M1NDU2NGM5NGVjNy1mOTE5OWIwMjY0ODZkZjJjNzBmOTEwMGMzNjRkYWY4NS90aWxlcy97en0ve3h9L3t5fSIsCiAgICAgICAgICAgICAgICB7ImF0dHJpYnV0aW9uIjogIkdvb2dsZSBFYXJ0aCBFbmdpbmUiLCAiZGV0ZWN0UmV0aW5hIjogZmFsc2UsICJtYXhOYXRpdmVab29tIjogMTgsICJtYXhab29tIjogMTgsICJtaW5ab29tIjogMCwgIm5vV3JhcCI6IGZhbHNlLCAib3BhY2l0eSI6IDEuMCwgInN1YmRvbWFpbnMiOiAiYWJjIiwgInRtcyI6IGZhbHNlfQogICAgICAgICAgICApLmFkZFRvKG1hcF82M2UzZTVlZDg4OWM0MzFmODQzODRkMDlhNDY4Mjg3Mik7CiAgICAgICAgCiAgICAKICAgICAgICAgICAgdmFyIHRpbGVfbGF5ZXJfYTA2ZjQyMGQ5MTkwNDA0ZTlhOGE1YWMxNDI5OTA1ZmEgPSBMLnRpbGVMYXllcigKICAgICAgICAgICAgICAgICJodHRwczovL2VhcnRoZW5naW5lLmdvb2dsZWFwaXMuY29tL3YxYWxwaGEvcHJvamVjdHMvZWFydGhlbmdpbmUtbGVnYWN5L21hcHMvMTM1MzBmNjI2YWY2NjQwODU2ODgwYTRlZjNhOTI3MGItYjFkYWYyMDdjMDVlNjVhYjcwYzBlYjNiMzU2N2I4MDUvdGlsZXMve3p9L3t4fS97eX0iLAogICAgICAgICAgICAgICAgeyJhdHRyaWJ1dGlvbiI6ICJHb29nbGUgRWFydGggRW5naW5lIiwgImRldGVjdFJldGluYSI6IGZhbHNlLCAibWF4TmF0aXZlWm9vbSI6IDE4LCAibWF4Wm9vbSI6IDE4LCAibWluWm9vbSI6IDAsICJub1dyYXAiOiBmYWxzZSwgIm9wYWNpdHkiOiAxLjAsICJzdWJkb21haW5zIjogImFiYyIsICJ0bXMiOiBmYWxzZX0KICAgICAgICAgICAgKS5hZGRUbyhtYXBfNjNlM2U1ZWQ4ODljNDMxZjg0Mzg0ZDA5YTQ2ODI4NzIpOwogICAgICAgIAogICAgCiAgICAgICAgICAgIHZhciB0aWxlX2xheWVyX2VmNTE3ZTAzMmQzYTQ2ZGQ5MWI3NzY0NDJlNGI5ZWIwID0gTC50aWxlTGF5ZXIoCiAgICAgICAgICAgICAgICAiaHR0cHM6Ly9lYXJ0aGVuZ2luZS5nb29nbGVhcGlzLmNvbS92MWFscGhhL3Byb2plY3RzL2VhcnRoZW5naW5lLWxlZ2FjeS9tYXBzL2ViMjRjNzkyZjczZDFkN2QxMjNhODkzZjc5YzZlMGExLTAzMjdiZWY1NTQ4OTg2OWQzMjI1YTkxYTIwYmJmMzJjL3RpbGVzL3t6fS97eH0ve3l9IiwKICAgICAgICAgICAgICAgIHsiYXR0cmlidXRpb24iOiAiR29vZ2xlIEVhcnRoIEVuZ2luZSIsICJkZXRlY3RSZXRpbmEiOiBmYWxzZSwgIm1heE5hdGl2ZVpvb20iOiAxOCwgIm1heFpvb20iOiAxOCwgIm1pblpvb20iOiAwLCAibm9XcmFwIjogZmFsc2UsICJvcGFjaXR5IjogMS4wLCAic3ViZG9tYWlucyI6ICJhYmMiLCAidG1zIjogZmFsc2V9CiAgICAgICAgICAgICkuYWRkVG8obWFwXzYzZTNlNWVkODg5YzQzMWY4NDM4NGQwOWE0NjgyODcyKTsKICAgICAgICAKICAgIAogICAgICAgICAgICB2YXIgdGlsZV9sYXllcl80ZGMwNTI2MDkwYmM0MzdlOTYzZDM1YzY4Mzc5MGI2NyA9IEwudGlsZUxheWVyKAogICAgICAgICAgICAgICAgImh0dHBzOi8vZWFydGhlbmdpbmUuZ29vZ2xlYXBpcy5jb20vdjFhbHBoYS9wcm9qZWN0cy9lYXJ0aGVuZ2luZS1sZWdhY3kvbWFwcy9iZTc4OTYwOWY5MzZkOGFkMTg2MmQyZjc1ZTdjMWU1Zi04ZTNmMzIxMDQyNDUzNzgzOTg4NWZjYWFjYTViOWI1My90aWxlcy97en0ve3h9L3t5fSIsCiAgICAgICAgICAgICAgICB7ImF0dHJpYnV0aW9uIjogIkdvb2dsZSBFYXJ0aCBFbmdpbmUiLCAiZGV0ZWN0UmV0aW5hIjogZmFsc2UsICJtYXhOYXRpdmVab29tIjogMTgsICJtYXhab29tIjogMTgsICJtaW5ab29tIjogMCwgIm5vV3JhcCI6IGZhbHNlLCAib3BhY2l0eSI6IDEuMCwgInN1YmRvbWFpbnMiOiAiYWJjIiwgInRtcyI6IGZhbHNlfQogICAgICAgICAgICApLmFkZFRvKG1hcF82M2UzZTVlZDg4OWM0MzFmODQzODRkMDlhNDY4Mjg3Mik7CiAgICAgICAgCiAgICAKICAgICAgICAgICAgdmFyIHRpbGVfbGF5ZXJfNDY3YmVmMDM3NTViNDRkOGIyZTQxMmE3YzRjYjAyMGMgPSBMLnRpbGVMYXllcigKICAgICAgICAgICAgICAgICJodHRwczovL2VhcnRoZW5naW5lLmdvb2dsZWFwaXMuY29tL3YxYWxwaGEvcHJvamVjdHMvZWFydGhlbmdpbmUtbGVnYWN5L21hcHMvODBmYzFjMDFiNTRkMjdlN2I3OWQ4MTM3NTlhNDY2OWUtNWY1ZGE2MDJlNzYwMjk1NGI5YjI2OGRlMmVkY2U1ZTEvdGlsZXMve3p9L3t4fS97eX0iLAogICAgICAgICAgICAgICAgeyJhdHRyaWJ1dGlvbiI6ICJHb29nbGUgRWFydGggRW5naW5lIiwgImRldGVjdFJldGluYSI6IGZhbHNlLCAibWF4TmF0aXZlWm9vbSI6IDE4LCAibWF4Wm9vbSI6IDE4LCAibWluWm9vbSI6IDAsICJub1dyYXAiOiBmYWxzZSwgIm9wYWNpdHkiOiAxLjAsICJzdWJkb21haW5zIjogImFiYyIsICJ0bXMiOiBmYWxzZX0KICAgICAgICAgICAgKS5hZGRUbyhtYXBfNjNlM2U1ZWQ4ODljNDMxZjg0Mzg0ZDA5YTQ2ODI4NzIpOwogICAgICAgIAogICAgCiAgICAgICAgICAgIHZhciB0aWxlX2xheWVyX2Y0NGY5N2I0ZjY0ZTQ1ZDJiNjE3MDhkZTlhZmQzZDIyID0gTC50aWxlTGF5ZXIoCiAgICAgICAgICAgICAgICAiaHR0cHM6Ly9lYXJ0aGVuZ2luZS5nb29nbGVhcGlzLmNvbS92MWFscGhhL3Byb2plY3RzL2VhcnRoZW5naW5lLWxlZ2FjeS9tYXBzLzk5ZDQzNTJiOGU3M2Q5YjFiMWRlNzMxYWI5YzNkNzk3LWU4MjQ1Nzk1MzFiODgyOGI2MWZjNjk1YThhZTlmNzA2L3RpbGVzL3t6fS97eH0ve3l9IiwKICAgICAgICAgICAgICAgIHsiYXR0cmlidXRpb24iOiAiR29vZ2xlIEVhcnRoIEVuZ2luZSIsICJkZXRlY3RSZXRpbmEiOiBmYWxzZSwgIm1heE5hdGl2ZVpvb20iOiAxOCwgIm1heFpvb20iOiAxOCwgIm1pblpvb20iOiAwLCAibm9XcmFwIjogZmFsc2UsICJvcGFjaXR5IjogMS4wLCAic3ViZG9tYWlucyI6ICJhYmMiLCAidG1zIjogZmFsc2V9CiAgICAgICAgICAgICkuYWRkVG8obWFwXzYzZTNlNWVkODg5YzQzMWY4NDM4NGQwOWE0NjgyODcyKTsKICAgICAgICAKICAgIAogICAgICAgICAgICB2YXIgdGlsZV9sYXllcl9kNTBiMzNmMTgyYmM0MzZkOTNiNjhlMjA4MzVhNjhjZiA9IEwudGlsZUxheWVyKAogICAgICAgICAgICAgICAgImh0dHBzOi8vZWFydGhlbmdpbmUuZ29vZ2xlYXBpcy5jb20vdjFhbHBoYS9wcm9qZWN0cy9lYXJ0aGVuZ2luZS1sZWdhY3kvbWFwcy9iMGU0YjFhZTRjZDExZDM4ZGIxYTdkMjZkODMxNDE0Zi1mZTFjMDA3OWJhMmJmNWZiN2Q0OGM5NGI4ODYwYjZkMS90aWxlcy97en0ve3h9L3t5fSIsCiAgICAgICAgICAgICAgICB7ImF0dHJpYnV0aW9uIjogIkdvb2dsZSBFYXJ0aCBFbmdpbmUiLCAiZGV0ZWN0UmV0aW5hIjogZmFsc2UsICJtYXhOYXRpdmVab29tIjogMTgsICJtYXhab29tIjogMTgsICJtaW5ab29tIjogMCwgIm5vV3JhcCI6IGZhbHNlLCAib3BhY2l0eSI6IDEuMCwgInN1YmRvbWFpbnMiOiAiYWJjIiwgInRtcyI6IGZhbHNlfQogICAgICAgICAgICApLmFkZFRvKG1hcF82M2UzZTVlZDg4OWM0MzFmODQzODRkMDlhNDY4Mjg3Mik7CiAgICAgICAgCiAgICAKICAgICAgICAgICAgdmFyIHRpbGVfbGF5ZXJfMzJjMGZhOGZlYTZkNDU0MWJkYzgzYzgxNTgwZDA2NzIgPSBMLnRpbGVMYXllcigKICAgICAgICAgICAgICAgICJodHRwczovL2VhcnRoZW5naW5lLmdvb2dsZWFwaXMuY29tL3YxYWxwaGEvcHJvamVjdHMvZWFydGhlbmdpbmUtbGVnYWN5L21hcHMvYWU4YmE0YTBlYWE3ZDQwOGI5ZDAwYmU5NzRmZjVlNDYtNzJmNWRlZDZiN2QwM2IxOWRhZWE4NTUyNjEzMTc3NGEvdGlsZXMve3p9L3t4fS97eX0iLAogICAgICAgICAgICAgICAgeyJhdHRyaWJ1dGlvbiI6ICJHb29nbGUgRWFydGggRW5naW5lIiwgImRldGVjdFJldGluYSI6IGZhbHNlLCAibWF4TmF0aXZlWm9vbSI6IDE4LCAibWF4Wm9vbSI6IDE4LCAibWluWm9vbSI6IDAsICJub1dyYXAiOiBmYWxzZSwgIm9wYWNpdHkiOiAxLjAsICJzdWJkb21haW5zIjogImFiYyIsICJ0bXMiOiBmYWxzZX0KICAgICAgICAgICAgKS5hZGRUbyhtYXBfNjNlM2U1ZWQ4ODljNDMxZjg0Mzg0ZDA5YTQ2ODI4NzIpOwogICAgICAgIAogICAgCiAgICAgICAgICAgIHZhciB0aWxlX2xheWVyXzhmYTA2MDViYjdlMTQ0YmRhNWViMWY4NjkyNjUxMTM5ID0gTC50aWxlTGF5ZXIoCiAgICAgICAgICAgICAgICAiaHR0cHM6Ly9lYXJ0aGVuZ2luZS5nb29nbGVhcGlzLmNvbS92MWFscGhhL3Byb2plY3RzL2VhcnRoZW5naW5lLWxlZ2FjeS9tYXBzL2Q3MzZiNjQ1NThkNjMyMmYyZDNiN2ZlMjdiYzc3MTYzLTg0OTgxZTZmODlhYjQ2NDFlYzJjNGRjMDJmYzg2OGIzL3RpbGVzL3t6fS97eH0ve3l9IiwKICAgICAgICAgICAgICAgIHsiYXR0cmlidXRpb24iOiAiR29vZ2xlIEVhcnRoIEVuZ2luZSIsICJkZXRlY3RSZXRpbmEiOiBmYWxzZSwgIm1heE5hdGl2ZVpvb20iOiAxOCwgIm1heFpvb20iOiAxOCwgIm1pblpvb20iOiAwLCAibm9XcmFwIjogZmFsc2UsICJvcGFjaXR5IjogMS4wLCAic3ViZG9tYWlucyI6ICJhYmMiLCAidG1zIjogZmFsc2V9CiAgICAgICAgICAgICkuYWRkVG8obWFwXzYzZTNlNWVkODg5YzQzMWY4NDM4NGQwOWE0NjgyODcyKTsKICAgICAgICAKICAgIAogICAgICAgICAgICB2YXIgbGF5ZXJfY29udHJvbF9mZjk1MjAxMGU3M2Q0Y2JkOTAwOTI2ZDgxZGZiMWU3OSA9IHsKICAgICAgICAgICAgICAgIGJhc2VfbGF5ZXJzIDogewogICAgICAgICAgICAgICAgICAgICJvcGVuc3RyZWV0bWFwIiA6IHRpbGVfbGF5ZXJfN2FlZDM5ZThkOTgzNGY0NGIxMGY0MGE3NzdmYzQ5MTksCiAgICAgICAgICAgICAgICB9LAogICAgICAgICAgICAgICAgb3ZlcmxheXMgOiAgewogICAgICAgICAgICAgICAgICAgICJHb29nbGUgTWFwcyIgOiB0aWxlX2xheWVyXzYxMGE1NWQ1YWIzZjQ4NTU5YmIyOTBkOTA4OWFlYTBlLAogICAgICAgICAgICAgICAgICAgICJVcmJhbiIgOiB0aWxlX2xheWVyX2I3ZmMyMzgzMGM2NDQyNTA4MDA2ODZlNDk3Y2Q0NzViLAogICAgICAgICAgICAgICAgICAgICJIREMiIDogdGlsZV9sYXllcl8zYTA4NDQ4ZGIyZjQ0YWNhODM5ZDA5OTRkYmY0NTdhMywKICAgICAgICAgICAgICAgICAgICAiTERDIiA6IHRpbGVfbGF5ZXJfYTA2ZjQyMGQ5MTkwNDA0ZTlhOGE1YWMxNDI5OTA1ZmEsCiAgICAgICAgICAgICAgICAgICAgIkRDIiA6IHRpbGVfbGF5ZXJfZWY1MTdlMDMyZDNhNDZkZDkxYjc3NjQ0MmU0YjllYjAsCiAgICAgICAgICAgICAgICAgICAgInRyYWNrIiA6IHRpbGVfbGF5ZXJfNGRjMDUyNjA5MGJjNDM3ZTk2M2QzNWM2ODM3OTBiNjcsCiAgICAgICAgICAgICAgICAgICAgIkJ1ZmZlciAxMGsiIDogdGlsZV9sYXllcl80NjdiZWYwMzc1NWI0NGQ4YjJlNDEyYTdjNGNiMDIwYywKICAgICAgICAgICAgICAgICAgICAiQnVmZmVyIDIwayIgOiB0aWxlX2xheWVyX2Y0NGY5N2I0ZjY0ZTQ1ZDJiNjE3MDhkZTlhZmQzZDIyLAogICAgICAgICAgICAgICAgICAgICJCdWZmZXIgMzBrIiA6IHRpbGVfbGF5ZXJfZDUwYjMzZjE4MmJjNDM2ZDkzYjY4ZTIwODM1YTY4Y2YsCiAgICAgICAgICAgICAgICAgICAgIkJ1ZmZlciA0MGsiIDogdGlsZV9sYXllcl8zMmMwZmE4ZmVhNmQ0NTQxYmRjODNjODE1ODBkMDY3MiwKICAgICAgICAgICAgICAgICAgICAiQnVmZmVyIDUwayIgOiB0aWxlX2xheWVyXzhmYTA2MDViYjdlMTQ0YmRhNWViMWY4NjkyNjUxMTM5LAogICAgICAgICAgICAgICAgfSwKICAgICAgICAgICAgfTsKICAgICAgICAgICAgTC5jb250cm9sLmxheWVycygKICAgICAgICAgICAgICAgIGxheWVyX2NvbnRyb2xfZmY5NTIwMTBlNzNkNGNiZDkwMDkyNmQ4MWRmYjFlNzkuYmFzZV9sYXllcnMsCiAgICAgICAgICAgICAgICBsYXllcl9jb250cm9sX2ZmOTUyMDEwZTczZDRjYmQ5MDA5MjZkODFkZmIxZTc5Lm92ZXJsYXlzLAogICAgICAgICAgICAgICAgeyJhdXRvWkluZGV4IjogdHJ1ZSwgImNvbGxhcHNlZCI6IHRydWUsICJwb3NpdGlvbiI6ICJ0b3ByaWdodCJ9CiAgICAgICAgICAgICkuYWRkVG8obWFwXzYzZTNlNWVkODg5YzQzMWY4NDM4NGQwOWE0NjgyODcyKTsKICAgICAgICAKICAgIAogICAgICAgICAgICBMLmNvbnRyb2wuZnVsbHNjcmVlbigKICAgICAgICAgICAgICAgIHsiZm9yY2VTZXBhcmF0ZUJ1dHRvbiI6IGZhbHNlLCAicG9zaXRpb24iOiAidG9wbGVmdCIsICJ0aXRsZSI6ICJGdWxsIFNjcmVlbiIsICJ0aXRsZUNhbmNlbCI6ICJFeGl0IEZ1bGwgU2NyZWVuIn0KICAgICAgICAgICAgKS5hZGRUbyhtYXBfNjNlM2U1ZWQ4ODljNDMxZjg0Mzg0ZDA5YTQ2ODI4NzIpOwogICAgICAgIAogICAgCiAgICAgICAgICAgICAgICB2YXIgbGF0X2xuZ19wb3B1cF83MWNiNjc4OTEyMmQ0ODhhYWVkYTc4ZTE1MTkyNjdiZSA9IEwucG9wdXAoKTsKICAgICAgICAgICAgICAgIGZ1bmN0aW9uIGxhdExuZ1BvcChlKSB7CiAgICAgICAgICAgICAgICAgICAgbGF0X2xuZ19wb3B1cF83MWNiNjc4OTEyMmQ0ODhhYWVkYTc4ZTE1MTkyNjdiZQogICAgICAgICAgICAgICAgICAgICAgICAuc2V0TGF0TG5nKGUubGF0bG5nKQogICAgICAgICAgICAgICAgICAgICAgICAuc2V0Q29udGVudCgiTGF0aXR1ZGU6ICIgKyBlLmxhdGxuZy5sYXQudG9GaXhlZCg0KSArCiAgICAgICAgICAgICAgICAgICAgICAgICAgICAgICAgICAgICI8YnI+TG9uZ2l0dWRlOiAiICsgZS5sYXRsbmcubG5nLnRvRml4ZWQoNCkpCiAgICAgICAgICAgICAgICAgICAgICAgIC5vcGVuT24obWFwXzYzZTNlNWVkODg5YzQzMWY4NDM4NGQwOWE0NjgyODcyKTsKICAgICAgICAgICAgICAgICAgICB9CiAgICAgICAgICAgICAgICBtYXBfNjNlM2U1ZWQ4ODljNDMxZjg0Mzg0ZDA5YTQ2ODI4NzIub24oJ2NsaWNrJywgbGF0TG5nUG9wKTsKICAgICAgICAgICAgCjwvc2NyaXB0Pg==\" style=\"position:absolute;width:100%;height:100%;left:0;top:0;border:none !important;\" allowfullscreen webkitallowfullscreen mozallowfullscreen></iframe></div></div>"
      ],
      "text/plain": [
       "<geemap.eefolium.Map at 0x2b773f8fcd0>"
      ]
     },
     "execution_count": 25,
     "metadata": {},
     "output_type": "execute_result"
    }
   ],
   "source": [
    "Map = emap.Map(center=[data.iloc[0]['Latitude'],data.iloc[0]['Longitude']], zoom=8)\n",
    "Map.add_basemap('ROADMAP') # Add Google Map\n",
    "Map.addLayer(urban,{'min':1,'max':3},'Urban')\n",
    "Map.addLayer(HDC,{},'HDC')\n",
    "#Map.addLayer(HDC_vec,{'color':'#800080'},'HDC_vec')\n",
    "Map.addLayer(LDC,{},'LDC')\n",
    "#Map.addLayer(LDC_vec,{'color':'#008000'},'LDC_vec')\n",
    "Map.addLayer(DC,{},'DC')\n",
    "#Map.addLayer(DC_vec,{'color':'#0000FF'},'DC_vec')\n",
    "Map.addLayer(track,{'color':'800080'},'track')\n",
    "Map.addLayer(buffer10k,{'color':'FFFF00'},'Buffer 10k')\n",
    "Map.addLayer(buffer20k,{'color':'FFA500'},'Buffer 20k')\n",
    "Map.addLayer(buffer30k,{'color':'FFFF00'},'Buffer 30k')\n",
    "Map.addLayer(buffer40k,{'color':'FFA500'},'Buffer 40k')\n",
    "Map.addLayer(buffer50k,{'color':'FFFF00'},'Buffer 50k')\n",
    "#Map.addLayer(urban_vec,{'color':'FF0000'},'Urban_vec')\n",
    "\n",
    "Map.setControlVisibility(all)\n",
    "Map"
   ]
  },
  {
   "cell_type": "code",
   "execution_count": 26,
   "metadata": {},
   "outputs": [
    {
     "name": "stdout",
     "output_type": "stream",
     "text": [
      "0\n",
      "33\n",
      "33\n"
     ]
    }
   ],
   "source": [
    "print(HDC_vec.aggregate_sum('count').getInfo())\n",
    "print(LDC_vec.aggregate_sum('count').getInfo())\n",
    "print(DC_vec.aggregate_sum('count').getInfo())"
   ]
  },
  {
   "cell_type": "code",
   "execution_count": 30,
   "metadata": {},
   "outputs": [
    {
     "name": "stdout",
     "output_type": "stream",
     "text": [
      "2017\n",
      "HDC\n",
      "LDC\n",
      "DC\n"
     ]
    }
   ],
   "source": [
    "img_rsl = 450\n",
    "\n",
    "yearList = list(range(2017,2018))\n",
    "\n",
    "\n",
    "for yr in yearList: \n",
    "    print(yr)\n",
    "    imgClt = ee.ImageCollection(\"NOAA/VIIRS/DNB/MONTHLY_V1/VCMCFG\")\\\n",
    "               .filterDate(str(yr)+'-01-01', str(yr)+'-12-31')\\\n",
    "               .select(['avg_rad']) \n",
    "\n",
    "    indexList = ['HDC','LDC','DC']\n",
    "    vecList = [HDC_vec,LDC_vec,DC_vec]\n",
    "\n",
    "    df = pd.DataFrame(columns=(['Collection'] + ['imageIndex'] + indexList)) #create df \n",
    "    \n",
    "    for v in range(0,3):\n",
    "        index = indexList[v]\n",
    "        vector = vecList[v] \n",
    "        print(index)\n",
    "        imgClt_addedProperty = imgClt.map(lambda x: x.set({index:\n",
    "                                                  x.clip(trackBuffer)\\\n",
    "                                                   .reduceRegion(geometry=vector,reducer=ee.Reducer.mean(),scale=img_rsl)\\\n",
    "                                                   .get('avg_rad')}))        \n",
    "        listOfImages = imgClt_addedProperty.toList(imgClt_addedProperty.size()).getInfo()\n",
    "        imageIndex = [x['properties']['system:index'] for x in listOfImages]\n",
    "    \n",
    "        values = [0] * len(listOfImages)\n",
    "        for v in range(0,len(listOfImages)):\n",
    "            if index in listOfImages[v]['properties']: \n",
    "                values[v] = listOfImages[v]['properties'][index]\n",
    "\n",
    "   \n",
    "        df['Collection'] = [\"NOAA/VIIRS/DNB/MONTHLY_V1/VCMCFG\"] * len(listOfImages)\n",
    "        df['imageIndex'] = imageIndex \n",
    "        df[index] = values"
   ]
  },
  {
   "cell_type": "code",
   "execution_count": 31,
   "metadata": {},
   "outputs": [
    {
     "data": {
      "text/html": [
       "<div>\n",
       "<style scoped>\n",
       "    .dataframe tbody tr th:only-of-type {\n",
       "        vertical-align: middle;\n",
       "    }\n",
       "\n",
       "    .dataframe tbody tr th {\n",
       "        vertical-align: top;\n",
       "    }\n",
       "\n",
       "    .dataframe thead th {\n",
       "        text-align: right;\n",
       "    }\n",
       "</style>\n",
       "<table border=\"1\" class=\"dataframe\">\n",
       "  <thead>\n",
       "    <tr style=\"text-align: right;\">\n",
       "      <th></th>\n",
       "      <th>Collection</th>\n",
       "      <th>imageIndex</th>\n",
       "      <th>HDC</th>\n",
       "      <th>LDC</th>\n",
       "      <th>DC</th>\n",
       "    </tr>\n",
       "  </thead>\n",
       "  <tbody>\n",
       "    <tr>\n",
       "      <th>0</th>\n",
       "      <td>NOAA/VIIRS/DNB/MONTHLY_V1/VCMCFG</td>\n",
       "      <td>20170101</td>\n",
       "      <td>0</td>\n",
       "      <td>5.211457</td>\n",
       "      <td>5.211457</td>\n",
       "    </tr>\n",
       "    <tr>\n",
       "      <th>1</th>\n",
       "      <td>NOAA/VIIRS/DNB/MONTHLY_V1/VCMCFG</td>\n",
       "      <td>20170201</td>\n",
       "      <td>0</td>\n",
       "      <td>4.503802</td>\n",
       "      <td>4.503802</td>\n",
       "    </tr>\n",
       "    <tr>\n",
       "      <th>2</th>\n",
       "      <td>NOAA/VIIRS/DNB/MONTHLY_V1/VCMCFG</td>\n",
       "      <td>20170301</td>\n",
       "      <td>0</td>\n",
       "      <td>4.996159</td>\n",
       "      <td>4.996159</td>\n",
       "    </tr>\n",
       "    <tr>\n",
       "      <th>3</th>\n",
       "      <td>NOAA/VIIRS/DNB/MONTHLY_V1/VCMCFG</td>\n",
       "      <td>20170401</td>\n",
       "      <td>0</td>\n",
       "      <td>4.506425</td>\n",
       "      <td>4.506425</td>\n",
       "    </tr>\n",
       "    <tr>\n",
       "      <th>4</th>\n",
       "      <td>NOAA/VIIRS/DNB/MONTHLY_V1/VCMCFG</td>\n",
       "      <td>20170501</td>\n",
       "      <td>0</td>\n",
       "      <td>4.062849</td>\n",
       "      <td>4.062849</td>\n",
       "    </tr>\n",
       "    <tr>\n",
       "      <th>5</th>\n",
       "      <td>NOAA/VIIRS/DNB/MONTHLY_V1/VCMCFG</td>\n",
       "      <td>20170601</td>\n",
       "      <td>0</td>\n",
       "      <td>4.245161</td>\n",
       "      <td>4.245161</td>\n",
       "    </tr>\n",
       "    <tr>\n",
       "      <th>6</th>\n",
       "      <td>NOAA/VIIRS/DNB/MONTHLY_V1/VCMCFG</td>\n",
       "      <td>20170701</td>\n",
       "      <td>0</td>\n",
       "      <td>4.527360</td>\n",
       "      <td>4.527360</td>\n",
       "    </tr>\n",
       "    <tr>\n",
       "      <th>7</th>\n",
       "      <td>NOAA/VIIRS/DNB/MONTHLY_V1/VCMCFG</td>\n",
       "      <td>20170801</td>\n",
       "      <td>0</td>\n",
       "      <td>4.065526</td>\n",
       "      <td>4.065526</td>\n",
       "    </tr>\n",
       "    <tr>\n",
       "      <th>8</th>\n",
       "      <td>NOAA/VIIRS/DNB/MONTHLY_V1/VCMCFG</td>\n",
       "      <td>20170901</td>\n",
       "      <td>0</td>\n",
       "      <td>3.734844</td>\n",
       "      <td>3.734844</td>\n",
       "    </tr>\n",
       "    <tr>\n",
       "      <th>9</th>\n",
       "      <td>NOAA/VIIRS/DNB/MONTHLY_V1/VCMCFG</td>\n",
       "      <td>20171001</td>\n",
       "      <td>0</td>\n",
       "      <td>0.627824</td>\n",
       "      <td>0.627824</td>\n",
       "    </tr>\n",
       "    <tr>\n",
       "      <th>10</th>\n",
       "      <td>NOAA/VIIRS/DNB/MONTHLY_V1/VCMCFG</td>\n",
       "      <td>20171101</td>\n",
       "      <td>0</td>\n",
       "      <td>0.520580</td>\n",
       "      <td>0.520580</td>\n",
       "    </tr>\n",
       "    <tr>\n",
       "      <th>11</th>\n",
       "      <td>NOAA/VIIRS/DNB/MONTHLY_V1/VCMCFG</td>\n",
       "      <td>20171201</td>\n",
       "      <td>0</td>\n",
       "      <td>0.810019</td>\n",
       "      <td>0.810019</td>\n",
       "    </tr>\n",
       "  </tbody>\n",
       "</table>\n",
       "</div>"
      ],
      "text/plain": [
       "                          Collection imageIndex  HDC       LDC        DC\n",
       "0   NOAA/VIIRS/DNB/MONTHLY_V1/VCMCFG   20170101    0  5.211457  5.211457\n",
       "1   NOAA/VIIRS/DNB/MONTHLY_V1/VCMCFG   20170201    0  4.503802  4.503802\n",
       "2   NOAA/VIIRS/DNB/MONTHLY_V1/VCMCFG   20170301    0  4.996159  4.996159\n",
       "3   NOAA/VIIRS/DNB/MONTHLY_V1/VCMCFG   20170401    0  4.506425  4.506425\n",
       "4   NOAA/VIIRS/DNB/MONTHLY_V1/VCMCFG   20170501    0  4.062849  4.062849\n",
       "5   NOAA/VIIRS/DNB/MONTHLY_V1/VCMCFG   20170601    0  4.245161  4.245161\n",
       "6   NOAA/VIIRS/DNB/MONTHLY_V1/VCMCFG   20170701    0  4.527360  4.527360\n",
       "7   NOAA/VIIRS/DNB/MONTHLY_V1/VCMCFG   20170801    0  4.065526  4.065526\n",
       "8   NOAA/VIIRS/DNB/MONTHLY_V1/VCMCFG   20170901    0  3.734844  3.734844\n",
       "9   NOAA/VIIRS/DNB/MONTHLY_V1/VCMCFG   20171001    0  0.627824  0.627824\n",
       "10  NOAA/VIIRS/DNB/MONTHLY_V1/VCMCFG   20171101    0  0.520580  0.520580\n",
       "11  NOAA/VIIRS/DNB/MONTHLY_V1/VCMCFG   20171201    0  0.810019  0.810019"
      ]
     },
     "execution_count": 31,
     "metadata": {},
     "output_type": "execute_result"
    }
   ],
   "source": [
    "df"
   ]
  },
  {
   "cell_type": "code",
   "execution_count": null,
   "metadata": {},
   "outputs": [],
   "source": [
    "outfile = 'C:/Users/Y/Desktop/CHES/loss/result/downloaded/' + file[0:(len(file)-4)] + '_' + 'allYears' + '_'\\\n",
    "          + date.today().strftime('%Y-%m-%d') + '.csv'  #set up output file\n",
    "with open(outfile, 'w', newline='') as output:\n",
    "    writer = csv.writer(output, delimiter=',')\n",
    "    writer.writerow(['Collection'] + ['imageIndex'] + indexList)   #write row names\n",
    "    for row in range(0,len(df.index)):\n",
    "            writer.writerow(df.loc[row,])"
   ]
  }
 ],
 "metadata": {
  "kernelspec": {
   "display_name": ".pyenvloss",
   "language": "python",
   "name": ".pyenvloss"
  },
  "language_info": {
   "codemirror_mode": {
    "name": "ipython",
    "version": 3
   },
   "file_extension": ".py",
   "mimetype": "text/x-python",
   "name": "python",
   "nbconvert_exporter": "python",
   "pygments_lexer": "ipython3",
   "version": "3.8.6"
  }
 },
 "nbformat": 4,
 "nbformat_minor": 4
}
